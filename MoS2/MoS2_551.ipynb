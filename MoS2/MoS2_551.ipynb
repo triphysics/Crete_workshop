{
 "cells": [
  {
   "cell_type": "code",
   "execution_count": 1,
   "id": "9058f09f",
   "metadata": {},
   "outputs": [
    {
     "data": {
      "application/vnd.jupyter.widget-view+json": {
       "model_id": "50b3a68d7b5d426d8070cbab5a3aabbc",
       "version_major": 2,
       "version_minor": 0
      },
      "text/plain": []
     },
     "metadata": {},
     "output_type": "display_data"
    }
   ],
   "source": [
    "import os\n",
    "import numpy as np\n",
    "import subprocess\n",
    "import glob\n",
    "import os\n",
    "import shutil\n",
    "import nglview\n",
    "\n",
    "import pymatgen as pmg\n",
    "from pymatgen.io.vasp.outputs import Vasprun\n",
    "import phonopy\n",
    "from phonopy import Phonopy\n",
    "from phonopy.structure.atoms import Atoms as PhonopyAtoms\n",
    "from ase.io import read, write\n",
    "from ase.visualize import view\n",
    "from phonopy.phonon.band_structure import get_band_qpoints_and_path_connections\n",
    "\n",
    " # Setup plotting, seaborn is just used to make figures look a bit nicer not required\n",
    "%matplotlib inline\n",
    "import matplotlib.pyplot as plt"
   ]
  },
  {
   "cell_type": "code",
   "execution_count": 2,
   "id": "f1937355",
   "metadata": {},
   "outputs": [
    {
     "data": {
      "application/vnd.jupyter.widget-view+json": {
       "model_id": "433deada4b0d499bbea4cb525918c03c",
       "version_major": 2,
       "version_minor": 0
      },
      "text/plain": [
       "HBox(children=(NGLWidget(), VBox(children=(Dropdown(description='Show', options=('All', 'Mo', 'S'), value='All…"
      ]
     },
     "metadata": {},
     "output_type": "display_data"
    }
   ],
   "source": [
    "prim = read('POSCAR')\n",
    "view(prim, viewer='ngl')"
   ]
  },
  {
   "cell_type": "code",
   "execution_count": 6,
   "id": "ad6e67e2",
   "metadata": {},
   "outputs": [
    {
     "name": "stdout",
     "output_type": "stream",
     "text": [
      "        _\n",
      "  _ __ | |__   ___  _ __   ___   _ __  _   _\n",
      " | '_ \\| '_ \\ / _ \\| '_ \\ / _ \\ | '_ \\| | | |\n",
      " | |_) | | | | (_) | | | | (_) || |_) | |_| |\n",
      " | .__/|_| |_|\\___/|_| |_|\\___(_) .__/ \\__, |\n",
      " |_|                            |_|    |___/\n",
      "                                      2.17.2\n",
      "\n",
      "Python version 3.8.0\n",
      "Spglib version 2.0.2\n",
      "\n",
      "Crystal structure was read from \"POSCAR\".\n",
      "Unit of length: angstrom\n",
      "Displacements creation mode\n",
      "Settings:\n",
      "  Supercell: [5 5 1]\n",
      "Spacegroup: P-6m2 (187)\n",
      "Use -v option to watch primitive cell, unit cell, and supercell structures.\n",
      "\n",
      "\"phonopy_disp.yaml\" and supercells have been created.\n",
      "\n",
      "Summary of calculation was written in \"phonopy_disp.yaml\".\n",
      "                 _\n",
      "   ___ _ __   __| |\n",
      "  / _ \\ '_ \\ / _` |\n",
      " |  __/ | | | (_| |\n",
      "  \\___|_| |_|\\__,_|\n",
      "\n"
     ]
    },
    {
     "data": {
      "text/plain": [
       "0"
      ]
     },
     "execution_count": 6,
     "metadata": {},
     "output_type": "execute_result"
    }
   ],
   "source": [
    "# Generate the displaced supercells\n",
    "subprocess.call('phonopy -d --dim=\\\"5 5 1\\\"', shell=True)\n",
    "#os.makedirs('poscars')\n",
    "subprocess.call('mv POSCAR-* poscars', shell=True)"
   ]
  },
  {
   "cell_type": "code",
   "execution_count": 11,
   "id": "072a6980",
   "metadata": {},
   "outputs": [
    {
     "name": "stdout",
     "output_type": "stream",
     "text": [
      "        _\n",
      "  _ __ | |__   ___  _ __   ___   _ __  _   _\n",
      " | '_ \\| '_ \\ / _ \\| '_ \\ / _ \\ | '_ \\| | | |\n",
      " | |_) | | | | (_) | | | | (_) || |_) | |_| |\n",
      " | .__/|_| |_|\\___/|_| |_|\\___(_) .__/ \\__, |\n",
      " |_|                            |_|    |___/\n",
      "                                      2.17.2\n",
      "\n",
      "Python version 3.8.0\n",
      "Spglib version 2.0.2\n",
      "\n",
      "Displacements were read from \"phonopy_disp.yaml\".\n",
      "counter (file index): 1 2 3 \n",
      "\"FORCE_SETS\" has been created.\n",
      "                 _\n",
      "   ___ _ __   __| |\n",
      "  / _ \\ '_ \\ / _` |\n",
      " |  __/ | | | (_| |\n",
      "  \\___|_| |_|\\__,_|\n",
      "\n",
      "        _\n",
      "  _ __ | |__   ___  _ __   ___   _ __  _   _\n",
      " | '_ \\| '_ \\ / _ \\| '_ \\ / _ \\ | '_ \\| | | |\n",
      " | |_) | | | | (_) | | | | (_) || |_) | |_| |\n",
      " | .__/|_| |_|\\___/|_| |_|\\___(_) .__/ \\__, |\n",
      " |_|                            |_|    |___/\n",
      "                                      2.17.2\n",
      "\n",
      "Python version 3.8.0\n",
      "Spglib version 2.0.2\n",
      "\n",
      "Crystal structure was read from \"POSCAR\".\n",
      "Unit of length: angstrom\n",
      "Settings:\n",
      "  Supercell: [5 5 1]\n",
      "Spacegroup: P-6m2 (187)\n",
      "Use -v option to watch primitive cell, unit cell, and supercell structures.\n",
      "\n",
      "Forces and displacements were read from \"FORCE_SETS\".\n",
      "Computing force constants...\n",
      "Max drift of force constants: -0.003466 (zz) 0.000005 (xx)\n",
      "Force constants are written into \"force_constants.hdf5\".\n",
      "\n",
      "----------------------------------------------------------------------------\n",
      " One of the following run modes may be specified for phonon calculations.\n",
      " - Mesh sampling (MESH, --mesh)\n",
      " - Q-points (QPOINTS, --qpoints)\n",
      " - Band structure (BAND, --band)\n",
      " - Animation (ANIME, --anime)\n",
      " - Modulation (MODULATION, --modulation)\n",
      " - Characters of Irreps (IRREPS, --irreps)\n",
      " - Create displacements (CREATE_DISPLACEMENTS, -d)\n",
      "----------------------------------------------------------------------------\n",
      "\n",
      "Summary of calculation was written in \"phonopy.yaml\".\n",
      "                 _\n",
      "   ___ _ __   __| |\n",
      "  / _ \\ '_ \\ / _` |\n",
      " |  __/ | | | (_| |\n",
      "  \\___|_| |_|\\__,_|\n",
      "\n"
     ]
    },
    {
     "data": {
      "text/plain": [
       "0"
      ]
     },
     "execution_count": 11,
     "metadata": {},
     "output_type": "execute_result"
    }
   ],
   "source": [
    "subprocess.call('phonopy -f 001/vasprun.xml 002/vasprun.xml 003/vasprun.xml', shell=True)\n",
    "subprocess.call('phonopy --writefc --hdf5 --full-fc  --dim=\"5 5 1\"', shell=True)"
   ]
  },
  {
   "cell_type": "code",
   "execution_count": 12,
   "id": "552ac2d5",
   "metadata": {},
   "outputs": [
    {
     "name": "stdout",
     "output_type": "stream",
     "text": [
      "Supercell structure was read from \"SPOSCAR\".\n",
      "Force constants format was transformed to compact format.\n",
      "Force constants were read from \"force_constants.hdf5\".\n"
     ]
    },
    {
     "data": {
      "image/png": "[encoded data removed]",
      "text/plain": [
       "<Figure size 432x288 with 2 Axes>"
      ]
     },
     "metadata": {
      "needs_background": "light"
     },
     "output_type": "display_data"
    }
   ],
   "source": [
    "import phonopy\n",
    "from phonopy.phonon.band_structure import get_band_qpoints_and_path_connections\n",
    "phonon = phonopy.load(supercell_filename=\"SPOSCAR\", log_level=1)\n",
    "path = [[[0, 0, 0], [1/2, 0, 0], [1/3, 1/3, 0.0], [0,0,0]]]\n",
    "labels = [\"$\\\\Gamma$\", \"M\",\"K\", \"$\\\\Gamma$\"]\n",
    "qpoints, connections = get_band_qpoints_and_path_connections(path, npoints=51)\n",
    "phonon.run_band_structure(qpoints, path_connections=connections, labels=labels)\n",
    "phonon.plot_band_structure().show()"
   ]
  },
  {
   "cell_type": "code",
   "execution_count": 13,
   "id": "916e81d1",
   "metadata": {},
   "outputs": [],
   "source": [
    "import numpy as np\n",
    "from matplotlib import pyplot as plt\n",
    "from ase.io import read, write\n",
    "from phonopy import Phonopy\n",
    "from phonopy.structure.atoms import PhonopyAtoms\n",
    "\n",
    "from hiphive import ForceConstants, ClusterSpace, ForceConstantPotential\n",
    "from hiphive import enforce_rotational_sum_rules\n",
    "from hiphive.utilities import extract_parameters\n",
    "\n",
    "\n",
    "from hiphive import ForceConstants\n",
    "from hiphive.utilities import extract_parameters\n",
    "from hiphive import enforce_rotational_sum_rules\n",
    "from trainstation import Optimizer"
   ]
  },
  {
   "cell_type": "code",
   "execution_count": 14,
   "id": "88aaee39",
   "metadata": {},
   "outputs": [],
   "source": [
    "# read atoms and force constants\n",
    "# Use calculated phonopy IFCS to and pare them as hiphive FCP\n",
    "prim = read('POSCAR')\n",
    "supercell = read('SPOSCAR')\n",
    "fcs_phonopy = ForceConstants.read_phonopy(supercell, 'force_constants.hdf5')\n",
    "cutoff = 7.8"
   ]
  },
  {
   "cell_type": "code",
   "execution_count": 15,
   "id": "e228ad12",
   "metadata": {},
   "outputs": [
    {
     "name": "stdout",
     "output_type": "stream",
     "text": [
      "Primitive cell:\n",
      "    Formula: MoS2\n",
      "    Cell:\n",
      "        [  3.18999   0.00000   0.00000]\n",
      "        [ -1.59500   2.76261   0.00000]\n",
      "        [  0.00000   0.00000  21.14717]\n",
      "    Basis:\n",
      "        Mo  [  0.00000   0.00000   0.50000]\n",
      "        S   [  0.66667   0.33333   0.42622]\n",
      "        S   [  0.66667   0.33333   0.57378]\n",
      "\n",
      "Crystal symmetry:\n",
      "    Spacegroup:          P-6m2 (187)\n",
      "    Unique site:         2\n",
      "    Symmetry operations: 12\n",
      "    symprec:             1.00e-05\n",
      "\n",
      "Cutoffs:\n",
      "    Maximum cutoff: 7.8\n",
      "    Found 3 center atoms with 66 images totaling 69 atoms\n",
      "\n",
      "Clusters:\n",
      "    Clusters: {2: 176}\n",
      "    Total number of clusters: 176\n",
      "\n",
      "Orbits:\n",
      "    Orbits: {2: 17}\n",
      "    Total number of orbits: 17\n",
      "\n",
      "Eigentensors:\n",
      "    Eigentensors: {2: 84}\n",
      "    Total number of parameters: 84\n",
      "\n",
      "Constraints:\n",
      "    Acoustic: True\n",
      "    Number of degrees of freedom: {2: 80}\n",
      "    Total number of degrees of freedom: 80\n",
      "Force constant reconstruction error order 2:    0.2369%\n",
      "Rotational sum-rules before, ||Ax|| =    6.628932266179758\n",
      "Rotational sum-rules after,  ||Ax|| =    0.000000000134691\n"
     ]
    }
   ],
   "source": [
    "# Use calculated phonopy IFCS to and pare them as \n",
    "cs = ClusterSpace(prim, [cutoff])\n",
    "parameters = extract_parameters(fcs_phonopy, cs)\n",
    "enforced_parameters = enforce_rotational_sum_rules(cs, parameters, ['Huang', 'Born-Huang'])\n",
    "fcp_rot = ForceConstantPotential(cs, enforced_parameters)\n",
    "fcs_hiphive_rot = fcp_rot.get_force_constants(supercell)"
   ]
  },
  {
   "cell_type": "code",
   "execution_count": 27,
   "id": "2ff3e790",
   "metadata": {},
   "outputs": [],
   "source": [
    "# This generates the q mesh needed for calculations of phonon dispersion.\n",
    "\n",
    "THz_to_meV = 4.13567\n",
    "\n",
    "def get_band(q_start, q_stop, N):\n",
    "    \"\"\" Return path between q_start and q_stop \"\"\"\n",
    "    return np.array([q_start + (q_stop-q_start)*i/(N-1) for i in range(N)])\n",
    "\n",
    "def plot_dispersion(fcs, color, label):\n",
    "    # set force constants\n",
    "    phonon.set_force_constants(fcs.get_fc_array(order=2))\n",
    "\n",
    "    # get dispersion\n",
    "    phonon.set_band_structure(bands)\n",
    "    _, qnorms, freqs, _ = phonon.get_band_structure()\n",
    "    qnorms = np.hstack(qnorms)\n",
    "    freqs = THz_to_meV * np.vstack(freqs)\n",
    "    lines = ax1.plot(qnorms, freqs, color=color)\n",
    "    lines[0].set_label(label)\n",
    "\n",
    "# define band path\n",
    "N_band_pts = 500\n",
    "G2M = get_band(np.array([0.0, 0.0, 0.0]), np.array([1/2, 0, 0.0]), N_band_pts)\n",
    "M2K = get_band(np.array([1/2, 0.0, 0.0]), np.array([1/3, 1/3, 0.0]), N_band_pts)\n",
    "K2G= get_band(np.array([1/3, 1/3, 0.0]), np.array([0, 0, 0.0]), N_band_pts)\n",
    "bands = [G2M]"
   ]
  },
  {
   "cell_type": "code",
   "execution_count": 28,
   "id": "7c7f0427",
   "metadata": {},
   "outputs": [
    {
     "name": "stdout",
     "output_type": "stream",
     "text": [
      "Max drift of force constants: -0.003466 (zz) 0.000005 (xx)\n",
      "Max drift of force constants: -0.000000 (xx) -0.000000 (xx)\n"
     ]
    },
    {
     "data": {
      "image/png": "[encoded data removed]",
      "text/plain": [
       "<Figure size 396x273.6 with 1 Axes>"
      ]
     },
     "metadata": {
      "needs_background": "light"
     },
     "output_type": "display_data"
    }
   ],
   "source": [
    "# plotting\n",
    "fig = plt.figure(figsize=(5.5, 3.8))\n",
    "ax1 = fig.add_subplot(111)\n",
    "\n",
    "#ax1.axhline(y=0.0, ls='-', c='k', lw=1.0)\n",
    "plot_dispersion(fcs_phonopy, 'tab:blue', 'phonopy raw')\n",
    "plot_dispersion(fcs_hiphive_rot, 'tab:green', 'phonopy-based FCP rotational invariant')\n",
    "\n",
    "# show\n",
    "ax1.legend(loc=1)\n",
    "ax1.set_xlim(0, 0.04)\n",
    "ax1.set_ylim(-0.2, 3)\n",
    "\n",
    "ax1.set_xlabel('Wave vector')\n",
    "ax1.set_ylabel('Energy (meV)')\n",
    "\n",
    "fig.tight_layout()\n",
    "fig.savefig('MoS2_phonon_dispersion.svg')"
   ]
  },
  {
   "cell_type": "code",
   "execution_count": null,
   "id": "68b2d0d7",
   "metadata": {},
   "outputs": [],
   "source": []
  }
 ],
 "metadata": {
  "kernelspec": {
   "display_name": "Python 3 (ipykernel)",
   "language": "python",
   "name": "python3"
  },
  "language_info": {
   "codemirror_mode": {
    "name": "ipython",
    "version": 3
   },
   "file_extension": ".py",
   "mimetype": "text/x-python",
   "name": "python",
   "nbconvert_exporter": "python",
   "pygments_lexer": "ipython3",
   "version": "3.8.0"
  }
 },
 "nbformat": 4,
 "nbformat_minor": 5
}
