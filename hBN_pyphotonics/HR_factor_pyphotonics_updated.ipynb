{
 "cells": [
  {
   "cell_type": "code",
   "execution_count": 29,
   "id": "ef0819da",
   "metadata": {},
   "outputs": [],
   "source": [
    "%matplotlib inline\n",
    "import matplotlib.pyplot as plt\n",
    "\n",
    "try:\n",
    "    import seaborn as sns\n",
    "    sns.set_context('talk')\n",
    "except ModuleNotFoundError:\n",
    "    print('Dont worry')"
   ]
  },
  {
   "cell_type": "markdown",
   "id": "7058de07",
   "metadata": {},
   "source": [
    " Setup plotting, seaborn is just used to make figures look a bit nicer not required"
   ]
  },
  {
   "cell_type": "code",
   "execution_count": 30,
   "id": "f5ec32e8",
   "metadata": {},
   "outputs": [],
   "source": [
    "from pyphotonics.photoluminescence import Photoluminescence\n",
    "import os\n",
    "import numpy as np\n",
    "import subprocess\n",
    "import glob\n",
    "import os\n",
    "import shutil\n",
    "import nglview"
   ]
  },
  {
   "cell_type": "markdown",
   "id": "2383001b",
   "metadata": {},
   "source": [
    "<font size=\"4\"> <b>System </b>: We are using a monolayer hBN system with a 7x7x1 super cell.\n",
    "<br>\n",
    "\n",
    "<font size=\"4\">The defect state considered is a carbon substitutional defect at Boron site and a  adjacent nitrogen vacancy. <br>\n",
    "\n",
    "<font size=\"4\"> <b>Work flow:</b>\n",
    "- <font size=\"4\">Create the defected geomerty, and relax it. This is our Ground state geomerty.\n",
    "- <font size=\"4\">Model phonons corresponding to the ground state geomerty.\n",
    "- <font size=\"4\">Model the excited state geomerty using constraint DFT and relax it.  This is our excited state state geomerty.\n",
    "\n",
    "<font size=\"4\">Lets view these below using ase"
   ]
  },
  {
   "cell_type": "code",
   "execution_count": 31,
   "id": "ae867a35",
   "metadata": {},
   "outputs": [],
   "source": [
    "from ase.io import read, write\n",
    "from ase.visualize import view\n",
    "\n",
    "PP=read('SPOSCAR_pristine_hBN')\n",
    "ES=read('CONTCAR_ES')\n",
    "GS=read('CONTCAR_GS')"
   ]
  },
  {
   "cell_type": "code",
   "execution_count": 35,
   "id": "6772089e",
   "metadata": {},
   "outputs": [
    {
     "data": {
      "application/vnd.jupyter.widget-view+json": {
       "model_id": "011dcd6519d64ecfaa9ec76244c83a8a",
       "version_major": 2,
       "version_minor": 0
      },
      "text/plain": [
       "HBox(children=(NGLWidget(), VBox(children=(Dropdown(description='Show', options=('All', 'B', 'C', 'N'), value=…"
      ]
     },
     "metadata": {},
     "output_type": "display_data"
    }
   ],
   "source": [
    "view(GS, viewer='ngl')"
   ]
  },
  {
   "cell_type": "markdown",
   "id": "77542e32",
   "metadata": {},
   "source": [
    "<span style=\"color:blue\"><font size=\"4\">  <b>Theory:</b> (Reproduced from Computer Physics Communications 273 (2022) 108222)\n",
    " \n",
    " \n",
    "<font size=\"4\"> <b>Assumption 1.</b> The Born-Oppenheimer approximation (BOA): the dynamics of the electronic wavefunctions is too rapid compared with that of the nuclear wavefunctions, and therefore we can decompose the vibronic wavefunction into an electronic and an ionic component.\n",
    "\n",
    "<font size=\"4\"> <b>Assumption 2.</b>  The Condon and the Franck-Condon principles: according to the Condon principle, the transition dipole moment is independent from the positions of nuclei, and according to the Franck-Condon principle, the electronic transitions occur without changes in the positions of the nuclei\n",
    "\n",
    "\n",
    "<font size=\"4\"><b>Assumption 3.</b>  The configuration coordinates: The multi-dimensional harmonic oscillators which depend on 3N coordinates can be approximated as a single harmonic oscillator that depends on a single coordinate Q , known as the configuration coordinate (CC). In terms of Q , and for a single mode of vibration, the potential energy of the mode is \n",
    "\\begin{equation*}\n",
    "V_g = \\frac{1}{2} M_c \\omega_c^2 Q^2\n",
    "\\end{equation*}\n",
    "\n",
    "<font size=\"4\"> <b>Assumption 4.</b>  The vibrational modes are linearly coupled to the defect. The the Huang-Rhys factors are calculated as\n",
    "\\begin{equation*}\n",
    "S_i= \\frac {\\omega_i q^2}{2\\hbar}\n",
    "\\end{equation*}\n",
    " and the total HR factor is just the summation over all the modes.\n",
    "\\begin{equation*}\n",
    "S = \\sum_{i}^{M} S_i\n",
    "\\end{equation*}\n",
    "\n",
    "<font size=\"4\"> The quantities $\\omega_i$ and $q_i$ correspond to the phonon energy and the vibrational displacement, and $q_i$  is defined as:\n",
    "\\begin{equation*}\n",
    "q_i = \\sum_{aj}^{NM} m_{a}^{1/2} (R_{e, aj} - R_{g,aj})\\Delta r_{i,aj}\n",
    "\\end{equation*}\n",
    "\n",
    "<font size=\"4\"> We are using pypohotonics for these: https://github.com/sheriftawfikabbas/pyphotonics\n",
    "    \n",
    "\n",
    "<font size=\"4\"> To simulate the PL spectra:\n",
    "     \n",
    "\\begin{equation*}\n",
    "I(\\hbar \\omega)=\\left.I_{0} \\sum_{m}^{M}\\left|\\left\\langle\\psi_{g}\\right| \\psi_{e}\\right)\\right|^{2} \\delta\\left(E_{Z P L}-E_{g m}-\\hbar \\omega\\right)\n",
    "\\end{equation*}\n",
    "    \n",
    "\n",
    "<font size=\"4\"> where $M$ is the number of vibrational levels, $E_{g m}$ is the energy of vibrational level $m, \\psi_{g}$ labels the ground state vibronic wavefunctions, $\\psi_{e}$ the excited state vibronic level and $E_{Z P L}=E_{e}-E_{g}$, the different in energy between the two states. The calculation of the vibronic wavefunctions, and hence the overlap integral $\\left|\\left\\langle\\psi_{g} \\mid \\psi_{e}\\right\\rangle\\right|^{2}$, requires the solution of a many-body Schrödinger equation in which there are $3 N$ degrees of freedom, which are the positions of the atoms in the crystal, in addition to the electronic degrees of freedom.     \n",
    "    \n",
    "<!-- mesaure of the extent of atomic structure change due to the excitation is calculated by the quantity $\\Delta Q$, which is defined as:\n",
    " \n",
    " \n",
    "\\begin{equation*}\n",
    "\\Delta Q ^2 = \\sum_{ai} m_{a}^{1/2} (R_{e, ai} - R_{g,ai})\n",
    "\\end{equation*}\n",
    "\n",
    "where $a$ enumerates the atoms, $i = x, y, z$, $m_a$ is the atomic mass of species a, $R_{g/e,ai}$ is the position of atom a in the ground/excited state, respectively. -->\n",
    " </font>"
   ]
  },
  {
   "cell_type": "code",
   "execution_count": 34,
   "id": "09d69ced",
   "metadata": {},
   "outputs": [
    {
     "name": "stdout",
     "output_type": "stream",
     "text": [
      "        _\n",
      "  _ __ | |__   ___  _ __   ___   _ __  _   _\n",
      " | '_ \\| '_ \\ / _ \\| '_ \\ / _ \\ | '_ \\| | | |\n",
      " | |_) | | | | (_) | | | | (_) || |_) | |_| |\n",
      " | .__/|_| |_|\\___/|_| |_|\\___(_) .__/ \\__, |\n",
      " |_|                            |_|    |___/\n",
      "                                      2.12.0\n",
      "\n",
      "Python version 3.8.10\n",
      "Spglib version 1.16.3\n",
      "\n",
      "Crystal structure was read from \"CONTCAR_GS\".\n",
      "Unit of length: angstrom\n",
      "Displacements creation mode\n",
      "Settings:\n",
      "  Supercell: [1 1 1]\n",
      "Spacegroup: Amm2 (38)\n",
      "Use -v option to watch primitive cell, unit cell, and supercell structures.\n",
      "\n",
      "\"phonopy_disp.yaml\" and supercells have been created.\n",
      "\n",
      "Summary of calculation was written in \"phonopy_disp.yaml\".\n",
      "                 _\n",
      "   ___ _ __   __| |\n",
      "  / _ \\ '_ \\ / _` |\n",
      " |  __/ | | | (_| |\n",
      "  \\___|_| |_|\\__,_|\n",
      "\n"
     ]
    },
    {
     "data": {
      "text/plain": [
       "0"
      ]
     },
     "execution_count": 34,
     "metadata": {},
     "output_type": "execute_result"
    }
   ],
   "source": [
    "# Phonon calculations with finite displacements\n",
    "subprocess.call('phonopy -d --dim=\\\"1 1 1\\\" -c CONTCAR_GS', shell=True)\n",
    "#os.makedirs('phonopy')\n",
    "subprocess.call('mv POSCAR-* phonopy', shell=True)"
   ]
  },
  {
   "cell_type": "code",
   "execution_count": 8,
   "id": "84622179",
   "metadata": {},
   "outputs": [
    {
     "name": "stdout",
     "output_type": "stream",
     "text": [
      "        _\n",
      "  _ __ | |__   ___  _ __   ___   _ __  _   _\n",
      " | '_ \\| '_ \\ / _ \\| '_ \\ / _ \\ | '_ \\| | | |\n",
      " | |_) | | | | (_) | | | | (_) || |_) | |_| |\n",
      " | .__/|_| |_|\\___/|_| |_|\\___(_) .__/ \\__, |\n",
      " |_|                            |_|    |___/\n",
      "                                      2.12.0\n",
      "\n",
      "Python version 3.8.10\n",
      "Spglib version 1.16.3\n",
      "\n",
      "Displacements were read from \"phonopy_disp.yaml\".\n",
      "counter (file index): 1 2 3 4 5 6 7 8 9 10 11 12 13 14 15 16 17 18 19 20 21 22 23 24 25 26 27 28 29 30 31 32 33 34 35 36 37 38 39 40 41 42 43 44 45 46 47 48 49 50 51 52 53 54 55 56 57 58 59 60 61 62 63 64 65 66 67 68 69 70 71 72 73 74 75 76 77 78 79 80 81 82 83 84 85 86 87 88 89 90 91 92 93 94 95 96 97 98 99 100 101 102 103 104 105 106 107 108 109 110 111 112 113 114 115 116 117 118 119 120 121 122 123 124 125 126 127 128 129 130 131 132 133 134 135 136 137 138 139 140 141 142 143 144 145 146 147 148 149 150 151 152 153 154 155 156 157 158 159 160 161 162 163 164 165 166 167 168 169 170 171 172 173 174 175 176 177 178 179 180 181 182 183 184 185 186 187 188 189 190 191 192 193 194 \n",
      "\"FORCE_SETS\" has been created.\n",
      "                 _\n",
      "   ___ _ __   __| |\n",
      "  / _ \\ '_ \\ / _` |\n",
      " |  __/ | | | (_| |\n",
      "  \\___|_| |_|\\__,_|\n",
      "\n",
      "        _\n",
      "  _ __ | |__   ___  _ __   ___   _ __  _   _\n",
      " | '_ \\| '_ \\ / _ \\| '_ \\ / _ \\ | '_ \\| | | |\n",
      " | |_) | | | | (_) | | | | (_) || |_) | |_| |\n",
      " | .__/|_| |_|\\___/|_| |_|\\___(_) .__/ \\__, |\n",
      " |_|                            |_|    |___/\n",
      "                                      2.12.0\n",
      "\n",
      "Python version 3.8.10\n",
      "Spglib version 1.16.3\n",
      "\n",
      "Phonopy configuration was read from \"phonopy.in\".\n",
      "Crystal structure was read from \"CONTCAR_GS\".\n",
      "Unit of length: angstrom\n",
      "Band structure mode\n",
      "Settings:\n",
      "  Supercell: [1 1 1]\n",
      "Spacegroup: Amm2 (38)\n",
      "Use -v option to watch primitive cell, unit cell, and supercell structures.\n",
      "\n",
      "Forces and displacements were read from \"FORCE_SETS\".\n",
      "Computing force constants...\n",
      "Max drift of force constants: 0.053032 (zz) -0.000014 (xx)\n",
      "\n",
      "Reciprocal space paths in reduced coordinates:\n",
      "[ 0.000  0.000  0.000] --> [ 0.000  0.000  0.000]\n",
      "\n",
      "Summary of calculation was written in \"phonopy.yaml\".\n",
      "                 _\n",
      "   ___ _ __   __| |\n",
      "  / _ \\ '_ \\ / _` |\n",
      " |  __/ | | | (_| |\n",
      "  \\___|_| |_|\\__,_|\n",
      "\n"
     ]
    },
    {
     "data": {
      "text/plain": [
       "0"
      ]
     },
     "execution_count": 8,
     "metadata": {},
     "output_type": "execute_result"
    }
   ],
   "source": [
    "subprocess.call('phonopy -f phonopy/*/vasprun.xml', shell=True)\n",
    "subprocess.call('phonopy phonopy.in -c CONTCAR_GS', shell=True)"
   ]
  },
  {
   "cell_type": "markdown",
   "id": "3fa98784",
   "metadata": {},
   "source": [
    "Lets set up mass of all elements in the structures in amu. Here we have 48 Nitrogen atoms, 48 Boron atom and one Carbon."
   ]
  },
  {
   "cell_type": "code",
   "execution_count": 9,
   "id": "26a97e55",
   "metadata": {},
   "outputs": [],
   "source": [
    "m = np.zeros(98)\n",
    "\n",
    "for i in range(48):\n",
    "    m[i] = 10.811 * 1.660539040e-27   #Boron\n",
    "\n",
    "for i in range(48,96):\n",
    "    m[i] = 14.0067 * 1.660539040e-27  #Nitrogen  \n",
    "\n",
    "m[97] = 12.011 * 1.660539040e-2    # Carbon"
   ]
  },
  {
   "cell_type": "markdown",
   "id": "c2d82820",
   "metadata": {},
   "source": [
    "Lets call the pyphotonics and compute stuff."
   ]
  },
  {
   "cell_type": "code",
   "execution_count": 10,
   "id": "8842ba5b",
   "metadata": {},
   "outputs": [],
   "source": [
    "modes = 291  # 3 times of number of atoms in the supercell\n",
    "path = \"./\"\n",
    "path_phonopy = \"./\"\n",
    "p = Photoluminescence(path_phonopy,\n",
    "                        path + \"CONTCAR_GS\",\n",
    "                        path + \"CONTCAR_ES\",\n",
    "                        modes, \"phonopy\", m, 1000, shift_vector=[0.0, 0, 0.05])\n",
    "print(\"Delta_R=\", p.Delta_R)\n",
    "print(\"Delta_Q=\", p.Delta_Q)\n",
    "print(\"HuangRhyes=\", p.HuangRhyes)\n",
    "#p.print_table()"
   ]
  },
  {
   "cell_type": "code",
   "execution_count": 11,
   "id": "cf301aef",
   "metadata": {
    "scrolled": true
   },
   "outputs": [],
   "source": [
    "#partial HR function\n",
    "plt.figure(figsize=(5, 5))\n",
    "plt.plot(p.S_omega)\n",
    "data=np.loadtxt(\"table.dat\")\n",
    "plt.scatter(data[:,1]*1000, data[:,0]*100, color=\"orange\", s=100, label=\"$S_k$\")\n",
    "\n",
    "plt.ylabel('$S(\\hbar\\omega)$')\n",
    "plt.xlabel('Phonon energy (meV)')\n",
    "plt.xlim(0, 300)\n",
    "# plt.ylim(0, 0.01)\n",
    "plt.savefig('S_omega', bbox_inches='tight')\n",
    "p.write_S('S')\n",
    "plt.legend()\n",
    "plt.show()"
   ]
  },
  {
   "cell_type": "code",
   "execution_count": 12,
   "id": "ef01b2a2",
   "metadata": {},
   "outputs": [],
   "source": [
    "A, I = p.PL(2, 2, 1.96)\n",
    "plt.figure(figsize=(5, 5))\n",
    "plt.plot(I.__abs__()/I.__abs__().max())\n",
    "# normalize intensity the intensity to one\n",
    "data=np.loadtxt(\"EXP_PL.dat\")\n",
    "\n",
    "plt.scatter(data[:,0]*1000, data[:,1]/np.amax(data[:,1]), color=\"orange\", s=50, label=\"EXP PL\" )\n",
    "plt.ylabel('$I(\\hbar\\omega)$')\n",
    "plt.xlabel('Photon energy (eV)')\n",
    "plt.xlim(1200, 2000)\n",
    "x_values, labels = plt.xticks()\n",
    "labels = [float(x)/p.resolution for x in x_values]\n",
    "plt.xticks(x_values, labels)\n",
    "#plt.ylim(0, 600)\n",
    "plt.savefig('I', bbox_inches='tight')\n",
    "plt.show()"
   ]
  },
  {
   "cell_type": "code",
   "execution_count": null,
   "id": "10d0b852",
   "metadata": {},
   "outputs": [],
   "source": []
  },
  {
   "cell_type": "code",
   "execution_count": null,
   "id": "bfc7903b",
   "metadata": {},
   "outputs": [],
   "source": []
  }
 ],
 "metadata": {
  "kernelspec": {
   "display_name": "Python 3 (ipykernel)",
   "language": "python",
   "name": "python3"
  },
  "language_info": {
   "codemirror_mode": {
    "name": "ipython",
    "version": 3
   },
   "file_extension": ".py",
   "mimetype": "text/x-python",
   "name": "python",
   "nbconvert_exporter": "python",
   "pygments_lexer": "ipython3",
   "version": "3.8.10"
  }
 },
 "nbformat": 4,
 "nbformat_minor": 5
}
