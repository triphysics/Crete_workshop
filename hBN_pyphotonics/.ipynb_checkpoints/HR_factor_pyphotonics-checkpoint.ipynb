{
 "cells": [
  {
   "cell_type": "code",
   "execution_count": 1,
   "id": "ef0819da",
   "metadata": {},
   "outputs": [],
   "source": [
    "%matplotlib inline\n",
    "import matplotlib.pyplot as plt\n",
    "\n",
    "try:\n",
    "    import seaborn as sns\n",
    "    sns.set_context('talk')\n",
    "except ModuleNotFoundError:\n",
    "    print('Dont worry')"
   ]
  },
  {
   "cell_type": "markdown",
   "id": "7058de07",
   "metadata": {},
   "source": [
    " Setup plotting, seaborn is just used to make figures look a bit nicer not required"
   ]
  },
  {
   "cell_type": "code",
   "execution_count": 2,
   "id": "f5ec32e8",
   "metadata": {},
   "outputs": [],
   "source": [
    "from pyphotonics.photoluminescence import Photoluminescence\n",
    "import numpy as np"
   ]
  },
  {
   "cell_type": "markdown",
   "id": "2383001b",
   "metadata": {},
   "source": [
    "Import pyphotonics module here. We are using a monolayer hBN system with a 7x7x1 cell.\n",
    "The deefct state considered is a carbon substitutional defect at Boron site and a  adjacent nitrogen vacancy."
   ]
  },
  {
   "cell_type": "code",
   "execution_count": 3,
   "id": "ae867a35",
   "metadata": {},
   "outputs": [],
   "source": [
    "m = np.zeros(98)\n",
    "for i in range(48):\n",
    "    m[i] = 10.811 * 1.660539040e-27\n",
    "\n",
    "for i in range(48,96):\n",
    "    m[i] = 14.0067 * 1.660539040e-27\n",
    "\n",
    "m[97] = 12.011 * 1.660539040e-27"
   ]
  },
  {
   "cell_type": "markdown",
   "id": "4fef2dec",
   "metadata": {},
   "source": [
    "m gives tge "
   ]
  }
 ],
 "metadata": {
  "kernelspec": {
   "display_name": "Python 3 (ipykernel)",
   "language": "python",
   "name": "python3"
  },
  "language_info": {
   "codemirror_mode": {
    "name": "ipython",
    "version": 3
   },
   "file_extension": ".py",
   "mimetype": "text/x-python",
   "name": "python",
   "nbconvert_exporter": "python",
   "pygments_lexer": "ipython3",
   "version": "3.8.0"
  }
 },
 "nbformat": 4,
 "nbformat_minor": 5
}
